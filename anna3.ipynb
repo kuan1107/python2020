{
  "nbformat": 4,
  "nbformat_minor": 0,
  "metadata": {
    "colab": {
      "name": "anna3.ipynb",
      "provenance": [],
      "mount_file_id": "1LGyjr0gwJ_st0v2X1bfvh1HegQZKAlQ5",
      "authorship_tag": "ABX9TyNfV9lsJEWQMin9kYvUhSK+",
      "include_colab_link": true
    },
    "kernelspec": {
      "name": "python3",
      "display_name": "Python 3"
    },
    "language_info": {
      "name": "python"
    }
  },
  "cells": [
    {
      "cell_type": "markdown",
      "metadata": {
        "id": "view-in-github",
        "colab_type": "text"
      },
      "source": [
        "<a href=\"https://colab.research.google.com/github/kuan1107/python2020/blob/main/anna3.ipynb\" target=\"_parent\"><img src=\"https://colab.research.google.com/assets/colab-badge.svg\" alt=\"Open In Colab\"/></a>"
      ]
    },
    {
      "cell_type": "code",
      "execution_count": null,
      "metadata": {
        "id": "4d269EZGqFrL"
      },
      "outputs": [],
      "source": [
        "!pip install -U -q PyDrive"
      ]
    },
    {
      "cell_type": "code",
      "source": [
        "from pydrive.auth import GoogleAuth\n",
        "from pydrive.drive import GoogleDrive\n",
        "from google.colab import auth\n",
        "from oauth2client.client import GoogleCredentials\n",
        "import gspread\n",
        "from google.colab import drive\n",
        "from google.auth import default\n",
        "creds, _ = default()\n",
        "auth.authenticate_user()\n",
        "gc = gspread.authorize(creds)"
      ],
      "metadata": {
        "id": "CBmdmcQ-5heE"
      },
      "execution_count": null,
      "outputs": []
    },
    {
      "cell_type": "code",
      "source": [
        "auth.authenticate_user()\n",
        "gauth = GoogleAuth()\n",
        "gauth.credentials = GoogleCredentials.get_application_default()\n",
        "drvie = GoogleDrive(gauth)"
      ],
      "metadata": {
        "id": "YaRvrlA5504-"
      },
      "execution_count": null,
      "outputs": []
    },
    {
      "cell_type": "code",
      "source": [
        "import numpy as np\n",
        "import pandas as pd"
      ],
      "metadata": {
        "id": "svEc0QOC8O_H"
      },
      "execution_count": null,
      "outputs": []
    },
    {
      "cell_type": "code",
      "source": [
        "df = pd.read_excel('/content/drive/MyDrive/xlsx/問卷.xlsx',sheet_name='表單回應 1')"
      ],
      "metadata": {
        "id": "59hrhU6Y__kU"
      },
      "execution_count": null,
      "outputs": []
    },
    {
      "cell_type": "code",
      "source": [
        "df.head()"
      ],
      "metadata": {
        "colab": {
          "base_uri": "https://localhost:8080/",
          "height": 354
        },
        "id": "bJQbGFD4Qjmv",
        "outputId": "0c2e1a00-bfb2-41ad-f05e-2e65f4a8d7a3"
      },
      "execution_count": null,
      "outputs": [
        {
          "output_type": "execute_result",
          "data": {
            "text/plain": [
              "                     時間戳記                 電子郵件地址 性別     年齡  職業  \\\n",
              "0 2022-04-23 17:07:44.323                    潘丞沛  女  21～30  學生   \n",
              "1 2022-05-02 14:23:27.848                    王文君  女  21～30  學生   \n",
              "2 2022-05-02 17:04:39.661  a0921411228@gmail.com  男  16～20  學生   \n",
              "3 2022-05-02 17:13:09.281     need6478@gmail.com  女  21～30  學生   \n",
              "4 2022-05-02 17:17:37.325  a0984229644@gmail.com  男  16～20  學生   \n",
              "\n",
              "     較常使用的網購平台（可複選） 如何網購（可複選）   如何付款（可複選） 如何取貨（可複選） 平均網購的頻率  \\\n",
              "0        Momo購物, 蝦皮        手機        貨到付款      超商取貨    一週兩次   \n",
              "1    Momo購物, 蝦皮, 淘寶        手機  貨到付款, 線上刷卡      超商取貨   一個月一次   \n",
              "2  Momo購物, 蝦皮, 奇摩拍賣        手機        貨到付款      超商取貨  看有沒有需要   \n",
              "3    Momo購物, 蝦皮, 淘寶        手機  貨到付款, 線上刷卡      超商取貨   一個月一次   \n",
              "4                蝦皮        手機        貨到付款      超商取貨   一個月一次   \n",
              "\n",
              "                                吸引網購的原因（可複選）  \n",
              "0          特定節日免運費, 商品品質好壞, 賣家服務態度好壞, 回購享有折扣  \n",
              "1  特定節日免運費, 產品是否多元, 商品品質好壞, 賣家服務態度好壞, 回購享有折扣  \n",
              "2                            特定節日免運費, 產品是否多元  \n",
              "3  特定節日免運費, 產品是否多元, 商品品質好壞, 賣家服務態度好壞, 回購享有折扣  \n",
              "4                    特定節日免運費, 產品是否多元, 商品品質好壞  "
            ],
            "text/html": [
              "\n",
              "  <div id=\"df-a0fbdfe2-fe16-477e-9aa3-a20d73324084\">\n",
              "    <div class=\"colab-df-container\">\n",
              "      <div>\n",
              "<style scoped>\n",
              "    .dataframe tbody tr th:only-of-type {\n",
              "        vertical-align: middle;\n",
              "    }\n",
              "\n",
              "    .dataframe tbody tr th {\n",
              "        vertical-align: top;\n",
              "    }\n",
              "\n",
              "    .dataframe thead th {\n",
              "        text-align: right;\n",
              "    }\n",
              "</style>\n",
              "<table border=\"1\" class=\"dataframe\">\n",
              "  <thead>\n",
              "    <tr style=\"text-align: right;\">\n",
              "      <th></th>\n",
              "      <th>時間戳記</th>\n",
              "      <th>電子郵件地址</th>\n",
              "      <th>性別</th>\n",
              "      <th>年齡</th>\n",
              "      <th>職業</th>\n",
              "      <th>較常使用的網購平台（可複選）</th>\n",
              "      <th>如何網購（可複選）</th>\n",
              "      <th>如何付款（可複選）</th>\n",
              "      <th>如何取貨（可複選）</th>\n",
              "      <th>平均網購的頻率</th>\n",
              "      <th>吸引網購的原因（可複選）</th>\n",
              "    </tr>\n",
              "  </thead>\n",
              "  <tbody>\n",
              "    <tr>\n",
              "      <th>0</th>\n",
              "      <td>2022-04-23 17:07:44.323</td>\n",
              "      <td>潘丞沛</td>\n",
              "      <td>女</td>\n",
              "      <td>21～30</td>\n",
              "      <td>學生</td>\n",
              "      <td>Momo購物, 蝦皮</td>\n",
              "      <td>手機</td>\n",
              "      <td>貨到付款</td>\n",
              "      <td>超商取貨</td>\n",
              "      <td>一週兩次</td>\n",
              "      <td>特定節日免運費, 商品品質好壞, 賣家服務態度好壞, 回購享有折扣</td>\n",
              "    </tr>\n",
              "    <tr>\n",
              "      <th>1</th>\n",
              "      <td>2022-05-02 14:23:27.848</td>\n",
              "      <td>王文君</td>\n",
              "      <td>女</td>\n",
              "      <td>21～30</td>\n",
              "      <td>學生</td>\n",
              "      <td>Momo購物, 蝦皮, 淘寶</td>\n",
              "      <td>手機</td>\n",
              "      <td>貨到付款, 線上刷卡</td>\n",
              "      <td>超商取貨</td>\n",
              "      <td>一個月一次</td>\n",
              "      <td>特定節日免運費, 產品是否多元, 商品品質好壞, 賣家服務態度好壞, 回購享有折扣</td>\n",
              "    </tr>\n",
              "    <tr>\n",
              "      <th>2</th>\n",
              "      <td>2022-05-02 17:04:39.661</td>\n",
              "      <td>a0921411228@gmail.com</td>\n",
              "      <td>男</td>\n",
              "      <td>16～20</td>\n",
              "      <td>學生</td>\n",
              "      <td>Momo購物, 蝦皮, 奇摩拍賣</td>\n",
              "      <td>手機</td>\n",
              "      <td>貨到付款</td>\n",
              "      <td>超商取貨</td>\n",
              "      <td>看有沒有需要</td>\n",
              "      <td>特定節日免運費, 產品是否多元</td>\n",
              "    </tr>\n",
              "    <tr>\n",
              "      <th>3</th>\n",
              "      <td>2022-05-02 17:13:09.281</td>\n",
              "      <td>need6478@gmail.com</td>\n",
              "      <td>女</td>\n",
              "      <td>21～30</td>\n",
              "      <td>學生</td>\n",
              "      <td>Momo購物, 蝦皮, 淘寶</td>\n",
              "      <td>手機</td>\n",
              "      <td>貨到付款, 線上刷卡</td>\n",
              "      <td>超商取貨</td>\n",
              "      <td>一個月一次</td>\n",
              "      <td>特定節日免運費, 產品是否多元, 商品品質好壞, 賣家服務態度好壞, 回購享有折扣</td>\n",
              "    </tr>\n",
              "    <tr>\n",
              "      <th>4</th>\n",
              "      <td>2022-05-02 17:17:37.325</td>\n",
              "      <td>a0984229644@gmail.com</td>\n",
              "      <td>男</td>\n",
              "      <td>16～20</td>\n",
              "      <td>學生</td>\n",
              "      <td>蝦皮</td>\n",
              "      <td>手機</td>\n",
              "      <td>貨到付款</td>\n",
              "      <td>超商取貨</td>\n",
              "      <td>一個月一次</td>\n",
              "      <td>特定節日免運費, 產品是否多元, 商品品質好壞</td>\n",
              "    </tr>\n",
              "  </tbody>\n",
              "</table>\n",
              "</div>\n",
              "      <button class=\"colab-df-convert\" onclick=\"convertToInteractive('df-a0fbdfe2-fe16-477e-9aa3-a20d73324084')\"\n",
              "              title=\"Convert this dataframe to an interactive table.\"\n",
              "              style=\"display:none;\">\n",
              "        \n",
              "  <svg xmlns=\"http://www.w3.org/2000/svg\" height=\"24px\"viewBox=\"0 0 24 24\"\n",
              "       width=\"24px\">\n",
              "    <path d=\"M0 0h24v24H0V0z\" fill=\"none\"/>\n",
              "    <path d=\"M18.56 5.44l.94 2.06.94-2.06 2.06-.94-2.06-.94-.94-2.06-.94 2.06-2.06.94zm-11 1L8.5 8.5l.94-2.06 2.06-.94-2.06-.94L8.5 2.5l-.94 2.06-2.06.94zm10 10l.94 2.06.94-2.06 2.06-.94-2.06-.94-.94-2.06-.94 2.06-2.06.94z\"/><path d=\"M17.41 7.96l-1.37-1.37c-.4-.4-.92-.59-1.43-.59-.52 0-1.04.2-1.43.59L10.3 9.45l-7.72 7.72c-.78.78-.78 2.05 0 2.83L4 21.41c.39.39.9.59 1.41.59.51 0 1.02-.2 1.41-.59l7.78-7.78 2.81-2.81c.8-.78.8-2.07 0-2.86zM5.41 20L4 18.59l7.72-7.72 1.47 1.35L5.41 20z\"/>\n",
              "  </svg>\n",
              "      </button>\n",
              "      \n",
              "  <style>\n",
              "    .colab-df-container {\n",
              "      display:flex;\n",
              "      flex-wrap:wrap;\n",
              "      gap: 12px;\n",
              "    }\n",
              "\n",
              "    .colab-df-convert {\n",
              "      background-color: #E8F0FE;\n",
              "      border: none;\n",
              "      border-radius: 50%;\n",
              "      cursor: pointer;\n",
              "      display: none;\n",
              "      fill: #1967D2;\n",
              "      height: 32px;\n",
              "      padding: 0 0 0 0;\n",
              "      width: 32px;\n",
              "    }\n",
              "\n",
              "    .colab-df-convert:hover {\n",
              "      background-color: #E2EBFA;\n",
              "      box-shadow: 0px 1px 2px rgba(60, 64, 67, 0.3), 0px 1px 3px 1px rgba(60, 64, 67, 0.15);\n",
              "      fill: #174EA6;\n",
              "    }\n",
              "\n",
              "    [theme=dark] .colab-df-convert {\n",
              "      background-color: #3B4455;\n",
              "      fill: #D2E3FC;\n",
              "    }\n",
              "\n",
              "    [theme=dark] .colab-df-convert:hover {\n",
              "      background-color: #434B5C;\n",
              "      box-shadow: 0px 1px 3px 1px rgba(0, 0, 0, 0.15);\n",
              "      filter: drop-shadow(0px 1px 2px rgba(0, 0, 0, 0.3));\n",
              "      fill: #FFFFFF;\n",
              "    }\n",
              "  </style>\n",
              "\n",
              "      <script>\n",
              "        const buttonEl =\n",
              "          document.querySelector('#df-a0fbdfe2-fe16-477e-9aa3-a20d73324084 button.colab-df-convert');\n",
              "        buttonEl.style.display =\n",
              "          google.colab.kernel.accessAllowed ? 'block' : 'none';\n",
              "\n",
              "        async function convertToInteractive(key) {\n",
              "          const element = document.querySelector('#df-a0fbdfe2-fe16-477e-9aa3-a20d73324084');\n",
              "          const dataTable =\n",
              "            await google.colab.kernel.invokeFunction('convertToInteractive',\n",
              "                                                     [key], {});\n",
              "          if (!dataTable) return;\n",
              "\n",
              "          const docLinkHtml = 'Like what you see? Visit the ' +\n",
              "            '<a target=\"_blank\" href=https://colab.research.google.com/notebooks/data_table.ipynb>data table notebook</a>'\n",
              "            + ' to learn more about interactive tables.';\n",
              "          element.innerHTML = '';\n",
              "          dataTable['output_type'] = 'display_data';\n",
              "          await google.colab.output.renderOutput(dataTable, element);\n",
              "          const docLink = document.createElement('div');\n",
              "          docLink.innerHTML = docLinkHtml;\n",
              "          element.appendChild(docLink);\n",
              "        }\n",
              "      </script>\n",
              "    </div>\n",
              "  </div>\n",
              "  "
            ]
          },
          "metadata": {},
          "execution_count": 20
        }
      ]
    },
    {
      "cell_type": "code",
      "source": [
        "df.shape"
      ],
      "metadata": {
        "colab": {
          "base_uri": "https://localhost:8080/"
        },
        "id": "oSDRw-ZcQpDN",
        "outputId": "9ac16a71-8fc1-46bb-a8ee-16bcceedf95b"
      },
      "execution_count": null,
      "outputs": [
        {
          "output_type": "execute_result",
          "data": {
            "text/plain": [
              "(50, 11)"
            ]
          },
          "metadata": {},
          "execution_count": 21
        }
      ]
    },
    {
      "cell_type": "code",
      "source": [
        "df.iloc[0,0]"
      ],
      "metadata": {
        "colab": {
          "base_uri": "https://localhost:8080/"
        },
        "id": "Fg7iIWnARC3F",
        "outputId": "5cd671bb-51c6-48a1-df50-eb379d3ef447"
      },
      "execution_count": null,
      "outputs": [
        {
          "output_type": "execute_result",
          "data": {
            "text/plain": [
              "Timestamp('2022-04-23 17:07:44.323000')"
            ]
          },
          "metadata": {},
          "execution_count": 22
        }
      ]
    },
    {
      "cell_type": "code",
      "source": [
        "df.loc[1,'年齡']"
      ],
      "metadata": {
        "colab": {
          "base_uri": "https://localhost:8080/",
          "height": 36
        },
        "id": "HEhjNQsNRGAT",
        "outputId": "668fbea6-f5ce-4cc8-9cb8-3a1db3dc054f"
      },
      "execution_count": null,
      "outputs": [
        {
          "output_type": "execute_result",
          "data": {
            "text/plain": [
              "'21～30'"
            ],
            "application/vnd.google.colaboratory.intrinsic+json": {
              "type": "string"
            }
          },
          "metadata": {},
          "execution_count": 23
        }
      ]
    },
    {
      "cell_type": "code",
      "source": [
        "wb = gc.open_by_url('https://docs.google.com/spreadsheets/d/1p1o-LGsauBOV1iEizeC_39rVffOQT-Mf/')\n",
        "sheet_1 = wb.worksheet=('表單回應 1')"
      ],
      "metadata": {
        "id": "rmNnnHxKRIQa"
      },
      "execution_count": null,
      "outputs": []
    },
    {
      "cell_type": "code",
      "source": [
        "data = sheet_1.get_all_values()\n",
        "df = pd.DataFrame(data)"
      ],
      "metadata": {
        "id": "dKzzFEHNRli1"
      },
      "execution_count": null,
      "outputs": []
    },
    {
      "cell_type": "code",
      "source": [
        "df.columns = df.iloc[0]\n",
        "df = df.drop(df.index[0])\n",
        "df = df.reset_index(drop=True)"
      ],
      "metadata": {
        "id": "oxA7uNxzUXhl"
      },
      "execution_count": null,
      "outputs": []
    },
    {
      "cell_type": "code",
      "source": [
        "df.info()"
      ],
      "metadata": {
        "colab": {
          "base_uri": "https://localhost:8080/"
        },
        "id": "cgztZqX7UqaK",
        "outputId": "f9d7fb21-4814-44cf-b3f3-f5a78c8c6f0f"
      },
      "execution_count": null,
      "outputs": [
        {
          "output_type": "stream",
          "name": "stdout",
          "text": [
            "<class 'pandas.core.frame.DataFrame'>\n",
            "RangeIndex: 49 entries, 0 to 48\n",
            "Data columns (total 11 columns):\n",
            " #   Column                             Non-Null Count  Dtype         \n",
            "---  ------                             --------------  -----         \n",
            " 0   2022-04-23 17:07:44.323000         49 non-null     datetime64[ns]\n",
            " 1   潘丞沛                                49 non-null     object        \n",
            " 2   女                                  49 non-null     object        \n",
            " 3   21～30                              49 non-null     object        \n",
            " 4   學生                                 49 non-null     object        \n",
            " 5   Momo購物, 蝦皮                         49 non-null     object        \n",
            " 6   手機                                 49 non-null     object        \n",
            " 7   貨到付款                               49 non-null     object        \n",
            " 8   超商取貨                               49 non-null     object        \n",
            " 9   一週兩次                               49 non-null     object        \n",
            " 10  特定節日免運費, 商品品質好壞, 賣家服務態度好壞, 回購享有折扣  49 non-null     object        \n",
            "dtypes: datetime64[ns](1), object(10)\n",
            "memory usage: 4.3+ KB\n"
          ]
        }
      ]
    },
    {
      "cell_type": "code",
      "source": [
        "df.to_excel('/content/drive/MyDrive/xlsx/問卷.xlsx',sheet_name='表單回應 1')"
      ],
      "metadata": {
        "id": "3HB-82eStAa4"
      },
      "execution_count": null,
      "outputs": []
    },
    {
      "cell_type": "code",
      "source": [
        "grid = df.iloc[1,-1]"
      ],
      "metadata": {
        "id": "FPccjdvCuurR"
      },
      "execution_count": null,
      "outputs": []
    },
    {
      "cell_type": "code",
      "source": [
        "grid.find('(1)')"
      ],
      "metadata": {
        "colab": {
          "base_uri": "https://localhost:8080/"
        },
        "id": "iqVs3le2uz9L",
        "outputId": "ca7f1d5b-4e8d-4aed-bee7-c98d72c47674"
      },
      "execution_count": null,
      "outputs": [
        {
          "output_type": "execute_result",
          "data": {
            "text/plain": [
              "-1"
            ]
          },
          "metadata": {},
          "execution_count": 39
        }
      ]
    },
    {
      "cell_type": "code",
      "source": [
        ""
      ],
      "metadata": {
        "id": "dSaV6iwKvEed"
      },
      "execution_count": null,
      "outputs": []
    }
  ]
}