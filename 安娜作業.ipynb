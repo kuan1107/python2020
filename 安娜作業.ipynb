{
  "nbformat": 4,
  "nbformat_minor": 0,
  "metadata": {
    "colab": {
      "name": "Untitled2.ipynb",
      "provenance": [],
      "collapsed_sections": [],
      "authorship_tag": "ABX9TyO5D2h6z8phUPn/pMwnBPd7",
      "include_colab_link": true
    },
    "kernelspec": {
      "name": "python3",
      "display_name": "Python 3"
    },
    "language_info": {
      "name": "python"
    }
  },
  "cells": [
    {
      "cell_type": "markdown",
      "metadata": {
        "id": "view-in-github",
        "colab_type": "text"
      },
      "source": [
        "<a href=\"https://colab.research.google.com/github/kuan1107/python2020/blob/main/%E5%AE%89%E5%A8%9C%E4%BD%9C%E6%A5%AD.ipynb\" target=\"_parent\"><img src=\"https://colab.research.google.com/assets/colab-badge.svg\" alt=\"Open In Colab\"/></a>"
      ]
    },
    {
      "cell_type": "code",
      "execution_count": 28,
      "metadata": {
        "colab": {
          "base_uri": "https://localhost:8080/"
        },
        "id": "N5683MZQjE7c",
        "outputId": "cc7c6548-fb95-4451-c777-c954f192f51f"
      },
      "outputs": [
        {
          "output_type": "stream",
          "name": "stdout",
          "text": [
            " 2 \n",
            " 4 \n",
            " 6 \n",
            " 8 \n"
          ]
        }
      ],
      "source": [
        "for i in range(1,10):\n",
        "  if ( i % 2 ) == 0 : print ( \" {0} \". format (i))  "
      ]
    },
    {
      "cell_type": "code",
      "source": [
        "num = int(input('請輸入一個整數？'))\n",
        "\n",
        "if num%2:\n",
        "\n",
        "      print(num, '為奇數')\n",
        "\n",
        "else:\n",
        "\n",
        "      print(num, '為偶數')"
      ],
      "metadata": {
        "colab": {
          "base_uri": "https://localhost:8080/"
        },
        "id": "4HcI6X5XpT-I",
        "outputId": "f18a2db9-e51a-4d41-f01c-acf57456d4f0"
      },
      "execution_count": 11,
      "outputs": [
        {
          "output_type": "stream",
          "name": "stdout",
          "text": [
            "請輸入一個整數？7\n",
            "7 為奇數\n"
          ]
        }
      ]
    },
    {
      "cell_type": "code",
      "source": [
        "num = 5566\n",
        "print(\"I love\", num)"
      ],
      "metadata": {
        "colab": {
          "base_uri": "https://localhost:8080/"
        },
        "id": "eqPQSJQMntvK",
        "outputId": "89927413-8a0c-4623-f6f7-554a15c7b710"
      },
      "execution_count": 5,
      "outputs": [
        {
          "output_type": "stream",
          "name": "stdout",
          "text": [
            "I love 5566\n"
          ]
        }
      ]
    },
    {
      "cell_type": "code",
      "source": [
        "a = 32\n",
        "b = 38\n",
        "\n",
        "if b > a:\n",
        "  print(\"b is greater than a\")\n",
        "elif a == b:\n",
        "  print(\"a and b are equal\")"
      ],
      "metadata": {
        "colab": {
          "base_uri": "https://localhost:8080/"
        },
        "id": "EefVZ44_szny",
        "outputId": "481a1ee1-2f02-410b-b9eb-e0ebb44c4e2f"
      },
      "execution_count": 22,
      "outputs": [
        {
          "output_type": "stream",
          "name": "stdout",
          "text": [
            "b is greater than a\n"
          ]
        }
      ]
    },
    {
      "cell_type": "code",
      "source": [
        "a = 200\n",
        "b = 33\n",
        "\n",
        "if b > a:\n",
        "  print(\"b is greater than a\")\n",
        "else:\n",
        "  print(\"b is not greater than a\")"
      ],
      "metadata": {
        "colab": {
          "base_uri": "https://localhost:8080/"
        },
        "id": "Omz5XMnls_OI",
        "outputId": "0aa4ea88-1223-420c-d5af-3d6106ff27c6"
      },
      "execution_count": 23,
      "outputs": [
        {
          "output_type": "stream",
          "name": "stdout",
          "text": [
            "b is not greater than a\n"
          ]
        }
      ]
    },
    {
      "cell_type": "code",
      "source": [
        "num = float ( input ( \"輸入一個數字: \" ) ) \n",
        "if num > 0 : print ( \"正數\" ) \n",
        "elif num == 0 : print ( \"零\" ) \n",
        "else : print ( \"負數\" ) "
      ],
      "metadata": {
        "colab": {
          "base_uri": "https://localhost:8080/"
        },
        "id": "XN6kuSietksY",
        "outputId": "c476ce3c-cd88-49db-aa8e-044c27483cd2"
      },
      "execution_count": 25,
      "outputs": [
        {
          "output_type": "stream",
          "name": "stdout",
          "text": [
            "輸入一個數字: -3\n",
            "負數\n"
          ]
        }
      ]
    }
  ]
}