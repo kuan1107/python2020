{
  "nbformat": 4,
  "nbformat_minor": 0,
  "metadata": {
    "colab": {
      "name": "Untitled2.ipynb",
      "provenance": [],
      "collapsed_sections": [],
      "mount_file_id": "https://github.com/kuan1107/python2020/blob/main/annahw2.ipynb",
      "authorship_tag": "ABX9TyOt7IwdmStgFKSN790QRazm",
      "include_colab_link": true
    },
    "kernelspec": {
      "name": "python3",
      "display_name": "Python 3"
    },
    "language_info": {
      "name": "python"
    }
  },
  "cells": [
    {
      "cell_type": "markdown",
      "metadata": {
        "id": "view-in-github",
        "colab_type": "text"
      },
      "source": [
        "<a href=\"https://colab.research.google.com/github/kuan1107/python2020/blob/main/annahw2.ipynb\" target=\"_parent\"><img src=\"https://colab.research.google.com/assets/colab-badge.svg\" alt=\"Open In Colab\"/></a>"
      ]
    },
    {
      "cell_type": "code",
      "execution_count": 1,
      "metadata": {
        "colab": {
          "base_uri": "https://localhost:8080/"
        },
        "id": "0K1dPzzfgQ8f",
        "outputId": "8d7dd156-a166-43d0-faff-f2af957792b1"
      },
      "outputs": [
        {
          "output_type": "stream",
          "name": "stdout",
          "text": [
            "Looking in indexes: https://pypi.org/simple, https://us-python.pkg.dev/colab-wheels/public/simple/\n",
            "Requirement already satisfied: PyDrive in /usr/local/lib/python3.7/dist-packages (1.3.1)\n",
            "Requirement already satisfied: PyYAML>=3.0 in /usr/local/lib/python3.7/dist-packages (from PyDrive) (3.13)\n",
            "Requirement already satisfied: google-api-python-client>=1.2 in /usr/local/lib/python3.7/dist-packages (from PyDrive) (1.12.11)\n",
            "Requirement already satisfied: oauth2client>=4.0.0 in /usr/local/lib/python3.7/dist-packages (from PyDrive) (4.1.3)\n",
            "Requirement already satisfied: google-api-core<3dev,>=1.21.0 in /usr/local/lib/python3.7/dist-packages (from google-api-python-client>=1.2->PyDrive) (1.31.6)\n",
            "Requirement already satisfied: httplib2<1dev,>=0.15.0 in /usr/local/lib/python3.7/dist-packages (from google-api-python-client>=1.2->PyDrive) (0.17.4)\n",
            "Requirement already satisfied: six<2dev,>=1.13.0 in /usr/local/lib/python3.7/dist-packages (from google-api-python-client>=1.2->PyDrive) (1.15.0)\n",
            "Requirement already satisfied: google-auth<3dev,>=1.16.0 in /usr/local/lib/python3.7/dist-packages (from google-api-python-client>=1.2->PyDrive) (1.35.0)\n",
            "Requirement already satisfied: uritemplate<4dev,>=3.0.0 in /usr/local/lib/python3.7/dist-packages (from google-api-python-client>=1.2->PyDrive) (3.0.1)\n",
            "Requirement already satisfied: google-auth-httplib2>=0.0.3 in /usr/local/lib/python3.7/dist-packages (from google-api-python-client>=1.2->PyDrive) (0.0.4)\n",
            "Requirement already satisfied: packaging>=14.3 in /usr/local/lib/python3.7/dist-packages (from google-api-core<3dev,>=1.21.0->google-api-python-client>=1.2->PyDrive) (21.3)\n",
            "Requirement already satisfied: pytz in /usr/local/lib/python3.7/dist-packages (from google-api-core<3dev,>=1.21.0->google-api-python-client>=1.2->PyDrive) (2022.1)\n",
            "Requirement already satisfied: requests<3.0.0dev,>=2.18.0 in /usr/local/lib/python3.7/dist-packages (from google-api-core<3dev,>=1.21.0->google-api-python-client>=1.2->PyDrive) (2.23.0)\n",
            "Requirement already satisfied: protobuf<4.0.0dev,>=3.12.0 in /usr/local/lib/python3.7/dist-packages (from google-api-core<3dev,>=1.21.0->google-api-python-client>=1.2->PyDrive) (3.17.3)\n",
            "Requirement already satisfied: googleapis-common-protos<2.0dev,>=1.6.0 in /usr/local/lib/python3.7/dist-packages (from google-api-core<3dev,>=1.21.0->google-api-python-client>=1.2->PyDrive) (1.56.2)\n",
            "Requirement already satisfied: setuptools>=40.3.0 in /usr/local/lib/python3.7/dist-packages (from google-api-core<3dev,>=1.21.0->google-api-python-client>=1.2->PyDrive) (57.4.0)\n",
            "Requirement already satisfied: pyasn1-modules>=0.2.1 in /usr/local/lib/python3.7/dist-packages (from google-auth<3dev,>=1.16.0->google-api-python-client>=1.2->PyDrive) (0.2.8)\n",
            "Requirement already satisfied: cachetools<5.0,>=2.0.0 in /usr/local/lib/python3.7/dist-packages (from google-auth<3dev,>=1.16.0->google-api-python-client>=1.2->PyDrive) (4.2.4)\n",
            "Requirement already satisfied: rsa<5,>=3.1.4 in /usr/local/lib/python3.7/dist-packages (from google-auth<3dev,>=1.16.0->google-api-python-client>=1.2->PyDrive) (4.8)\n",
            "Requirement already satisfied: pyasn1>=0.1.7 in /usr/local/lib/python3.7/dist-packages (from oauth2client>=4.0.0->PyDrive) (0.4.8)\n",
            "Requirement already satisfied: pyparsing!=3.0.5,>=2.0.2 in /usr/local/lib/python3.7/dist-packages (from packaging>=14.3->google-api-core<3dev,>=1.21.0->google-api-python-client>=1.2->PyDrive) (3.0.9)\n",
            "Requirement already satisfied: chardet<4,>=3.0.2 in /usr/local/lib/python3.7/dist-packages (from requests<3.0.0dev,>=2.18.0->google-api-core<3dev,>=1.21.0->google-api-python-client>=1.2->PyDrive) (3.0.4)\n",
            "Requirement already satisfied: certifi>=2017.4.17 in /usr/local/lib/python3.7/dist-packages (from requests<3.0.0dev,>=2.18.0->google-api-core<3dev,>=1.21.0->google-api-python-client>=1.2->PyDrive) (2022.5.18.1)\n",
            "Requirement already satisfied: idna<3,>=2.5 in /usr/local/lib/python3.7/dist-packages (from requests<3.0.0dev,>=2.18.0->google-api-core<3dev,>=1.21.0->google-api-python-client>=1.2->PyDrive) (2.10)\n",
            "Requirement already satisfied: urllib3!=1.25.0,!=1.25.1,<1.26,>=1.21.1 in /usr/local/lib/python3.7/dist-packages (from requests<3.0.0dev,>=2.18.0->google-api-core<3dev,>=1.21.0->google-api-python-client>=1.2->PyDrive) (1.24.3)\n"
          ]
        }
      ],
      "source": [
        "!pip install --upgrade PyDrive"
      ]
    },
    {
      "cell_type": "code",
      "source": [
        "from pydrive.auth import GoogleAuth\n",
        "from pydrive.drive import GoogleDrive\n",
        "from google.colab import auth\n",
        "from oauth2client.client import GoogleCredentials"
      ],
      "metadata": {
        "id": "KkhRu11ZgqXo"
      },
      "execution_count": 3,
      "outputs": []
    },
    {
      "cell_type": "code",
      "source": [
        "import gspread\n",
        "from google.auth import default\n",
        "creds, _ = default()\n",
        "auth.authenticate_user()\n",
        "gc = gspread.authorize(creds)\n",
        "auth.authenticate_user()\n",
        "gauth = GoogleAuth()\n",
        "gauth.credentials = GoogleCredentials.get_application_default()\n",
        "drvie = GoogleDrive(gauth)"
      ],
      "metadata": {
        "id": "nOxacQ3ghNuo"
      },
      "execution_count": 4,
      "outputs": []
    },
    {
      "cell_type": "code",
      "source": [
        "import numpy as np\n",
        "import pandas as pd"
      ],
      "metadata": {
        "id": "sbu-YuTthVC0"
      },
      "execution_count": 2,
      "outputs": []
    },
    {
      "cell_type": "code",
      "source": [
        "df = pd.read_excel('/content/drive/MyDrive/xlsx/問卷.xlsx',sheet_name='表單回應 1')"
      ],
      "metadata": {
        "id": "Nc-16mwihqTm"
      },
      "execution_count": 5,
      "outputs": []
    },
    {
      "cell_type": "code",
      "source": [
        "df.head()"
      ],
      "metadata": {
        "colab": {
          "base_uri": "https://localhost:8080/",
          "height": 354
        },
        "id": "p7q6MLPIh1m0",
        "outputId": "47fe4d0a-331f-40c4-91d9-66ea3b188c23"
      },
      "execution_count": 6,
      "outputs": [
        {
          "output_type": "execute_result",
          "data": {
            "text/plain": [
              "                     時間戳記                 電子郵件地址 性別     年齡  職業  \\\n",
              "0 2022-04-23 17:07:44.323                    潘丞沛  女  21～30  學生   \n",
              "1 2022-05-02 14:23:27.848                    王文君  女  21～30  學生   \n",
              "2 2022-05-02 17:04:39.661  a0921411228@gmail.com  男  16～20  學生   \n",
              "3 2022-05-02 17:13:09.281     need6478@gmail.com  女  21～30  學生   \n",
              "4 2022-05-02 17:17:37.325  a0984229644@gmail.com  男  16～20  學生   \n",
              "\n",
              "     較常使用的網購平台（可複選） 如何網購（可複選）   如何付款（可複選） 如何取貨（可複選） 平均網購的頻率  \\\n",
              "0        Momo購物, 蝦皮        手機        貨到付款      超商取貨    一週兩次   \n",
              "1    Momo購物, 蝦皮, 淘寶        手機  貨到付款, 線上刷卡      超商取貨   一個月一次   \n",
              "2  Momo購物, 蝦皮, 奇摩拍賣        手機        貨到付款      超商取貨  看有沒有需要   \n",
              "3    Momo購物, 蝦皮, 淘寶        手機  貨到付款, 線上刷卡      超商取貨   一個月一次   \n",
              "4                蝦皮        手機        貨到付款      超商取貨   一個月一次   \n",
              "\n",
              "                                吸引網購的原因（可複選）  \n",
              "0          特定節日免運費, 商品品質好壞, 賣家服務態度好壞, 回購享有折扣  \n",
              "1  特定節日免運費, 產品是否多元, 商品品質好壞, 賣家服務態度好壞, 回購享有折扣  \n",
              "2                            特定節日免運費, 產品是否多元  \n",
              "3  特定節日免運費, 產品是否多元, 商品品質好壞, 賣家服務態度好壞, 回購享有折扣  \n",
              "4                    特定節日免運費, 產品是否多元, 商品品質好壞  "
            ],
            "text/html": [
              "\n",
              "  <div id=\"df-2c062677-a962-48c9-9a54-67d9fcfdb254\">\n",
              "    <div class=\"colab-df-container\">\n",
              "      <div>\n",
              "<style scoped>\n",
              "    .dataframe tbody tr th:only-of-type {\n",
              "        vertical-align: middle;\n",
              "    }\n",
              "\n",
              "    .dataframe tbody tr th {\n",
              "        vertical-align: top;\n",
              "    }\n",
              "\n",
              "    .dataframe thead th {\n",
              "        text-align: right;\n",
              "    }\n",
              "</style>\n",
              "<table border=\"1\" class=\"dataframe\">\n",
              "  <thead>\n",
              "    <tr style=\"text-align: right;\">\n",
              "      <th></th>\n",
              "      <th>時間戳記</th>\n",
              "      <th>電子郵件地址</th>\n",
              "      <th>性別</th>\n",
              "      <th>年齡</th>\n",
              "      <th>職業</th>\n",
              "      <th>較常使用的網購平台（可複選）</th>\n",
              "      <th>如何網購（可複選）</th>\n",
              "      <th>如何付款（可複選）</th>\n",
              "      <th>如何取貨（可複選）</th>\n",
              "      <th>平均網購的頻率</th>\n",
              "      <th>吸引網購的原因（可複選）</th>\n",
              "    </tr>\n",
              "  </thead>\n",
              "  <tbody>\n",
              "    <tr>\n",
              "      <th>0</th>\n",
              "      <td>2022-04-23 17:07:44.323</td>\n",
              "      <td>潘丞沛</td>\n",
              "      <td>女</td>\n",
              "      <td>21～30</td>\n",
              "      <td>學生</td>\n",
              "      <td>Momo購物, 蝦皮</td>\n",
              "      <td>手機</td>\n",
              "      <td>貨到付款</td>\n",
              "      <td>超商取貨</td>\n",
              "      <td>一週兩次</td>\n",
              "      <td>特定節日免運費, 商品品質好壞, 賣家服務態度好壞, 回購享有折扣</td>\n",
              "    </tr>\n",
              "    <tr>\n",
              "      <th>1</th>\n",
              "      <td>2022-05-02 14:23:27.848</td>\n",
              "      <td>王文君</td>\n",
              "      <td>女</td>\n",
              "      <td>21～30</td>\n",
              "      <td>學生</td>\n",
              "      <td>Momo購物, 蝦皮, 淘寶</td>\n",
              "      <td>手機</td>\n",
              "      <td>貨到付款, 線上刷卡</td>\n",
              "      <td>超商取貨</td>\n",
              "      <td>一個月一次</td>\n",
              "      <td>特定節日免運費, 產品是否多元, 商品品質好壞, 賣家服務態度好壞, 回購享有折扣</td>\n",
              "    </tr>\n",
              "    <tr>\n",
              "      <th>2</th>\n",
              "      <td>2022-05-02 17:04:39.661</td>\n",
              "      <td>a0921411228@gmail.com</td>\n",
              "      <td>男</td>\n",
              "      <td>16～20</td>\n",
              "      <td>學生</td>\n",
              "      <td>Momo購物, 蝦皮, 奇摩拍賣</td>\n",
              "      <td>手機</td>\n",
              "      <td>貨到付款</td>\n",
              "      <td>超商取貨</td>\n",
              "      <td>看有沒有需要</td>\n",
              "      <td>特定節日免運費, 產品是否多元</td>\n",
              "    </tr>\n",
              "    <tr>\n",
              "      <th>3</th>\n",
              "      <td>2022-05-02 17:13:09.281</td>\n",
              "      <td>need6478@gmail.com</td>\n",
              "      <td>女</td>\n",
              "      <td>21～30</td>\n",
              "      <td>學生</td>\n",
              "      <td>Momo購物, 蝦皮, 淘寶</td>\n",
              "      <td>手機</td>\n",
              "      <td>貨到付款, 線上刷卡</td>\n",
              "      <td>超商取貨</td>\n",
              "      <td>一個月一次</td>\n",
              "      <td>特定節日免運費, 產品是否多元, 商品品質好壞, 賣家服務態度好壞, 回購享有折扣</td>\n",
              "    </tr>\n",
              "    <tr>\n",
              "      <th>4</th>\n",
              "      <td>2022-05-02 17:17:37.325</td>\n",
              "      <td>a0984229644@gmail.com</td>\n",
              "      <td>男</td>\n",
              "      <td>16～20</td>\n",
              "      <td>學生</td>\n",
              "      <td>蝦皮</td>\n",
              "      <td>手機</td>\n",
              "      <td>貨到付款</td>\n",
              "      <td>超商取貨</td>\n",
              "      <td>一個月一次</td>\n",
              "      <td>特定節日免運費, 產品是否多元, 商品品質好壞</td>\n",
              "    </tr>\n",
              "  </tbody>\n",
              "</table>\n",
              "</div>\n",
              "      <button class=\"colab-df-convert\" onclick=\"convertToInteractive('df-2c062677-a962-48c9-9a54-67d9fcfdb254')\"\n",
              "              title=\"Convert this dataframe to an interactive table.\"\n",
              "              style=\"display:none;\">\n",
              "        \n",
              "  <svg xmlns=\"http://www.w3.org/2000/svg\" height=\"24px\"viewBox=\"0 0 24 24\"\n",
              "       width=\"24px\">\n",
              "    <path d=\"M0 0h24v24H0V0z\" fill=\"none\"/>\n",
              "    <path d=\"M18.56 5.44l.94 2.06.94-2.06 2.06-.94-2.06-.94-.94-2.06-.94 2.06-2.06.94zm-11 1L8.5 8.5l.94-2.06 2.06-.94-2.06-.94L8.5 2.5l-.94 2.06-2.06.94zm10 10l.94 2.06.94-2.06 2.06-.94-2.06-.94-.94-2.06-.94 2.06-2.06.94z\"/><path d=\"M17.41 7.96l-1.37-1.37c-.4-.4-.92-.59-1.43-.59-.52 0-1.04.2-1.43.59L10.3 9.45l-7.72 7.72c-.78.78-.78 2.05 0 2.83L4 21.41c.39.39.9.59 1.41.59.51 0 1.02-.2 1.41-.59l7.78-7.78 2.81-2.81c.8-.78.8-2.07 0-2.86zM5.41 20L4 18.59l7.72-7.72 1.47 1.35L5.41 20z\"/>\n",
              "  </svg>\n",
              "      </button>\n",
              "      \n",
              "  <style>\n",
              "    .colab-df-container {\n",
              "      display:flex;\n",
              "      flex-wrap:wrap;\n",
              "      gap: 12px;\n",
              "    }\n",
              "\n",
              "    .colab-df-convert {\n",
              "      background-color: #E8F0FE;\n",
              "      border: none;\n",
              "      border-radius: 50%;\n",
              "      cursor: pointer;\n",
              "      display: none;\n",
              "      fill: #1967D2;\n",
              "      height: 32px;\n",
              "      padding: 0 0 0 0;\n",
              "      width: 32px;\n",
              "    }\n",
              "\n",
              "    .colab-df-convert:hover {\n",
              "      background-color: #E2EBFA;\n",
              "      box-shadow: 0px 1px 2px rgba(60, 64, 67, 0.3), 0px 1px 3px 1px rgba(60, 64, 67, 0.15);\n",
              "      fill: #174EA6;\n",
              "    }\n",
              "\n",
              "    [theme=dark] .colab-df-convert {\n",
              "      background-color: #3B4455;\n",
              "      fill: #D2E3FC;\n",
              "    }\n",
              "\n",
              "    [theme=dark] .colab-df-convert:hover {\n",
              "      background-color: #434B5C;\n",
              "      box-shadow: 0px 1px 3px 1px rgba(0, 0, 0, 0.15);\n",
              "      filter: drop-shadow(0px 1px 2px rgba(0, 0, 0, 0.3));\n",
              "      fill: #FFFFFF;\n",
              "    }\n",
              "  </style>\n",
              "\n",
              "      <script>\n",
              "        const buttonEl =\n",
              "          document.querySelector('#df-2c062677-a962-48c9-9a54-67d9fcfdb254 button.colab-df-convert');\n",
              "        buttonEl.style.display =\n",
              "          google.colab.kernel.accessAllowed ? 'block' : 'none';\n",
              "\n",
              "        async function convertToInteractive(key) {\n",
              "          const element = document.querySelector('#df-2c062677-a962-48c9-9a54-67d9fcfdb254');\n",
              "          const dataTable =\n",
              "            await google.colab.kernel.invokeFunction('convertToInteractive',\n",
              "                                                     [key], {});\n",
              "          if (!dataTable) return;\n",
              "\n",
              "          const docLinkHtml = 'Like what you see? Visit the ' +\n",
              "            '<a target=\"_blank\" href=https://colab.research.google.com/notebooks/data_table.ipynb>data table notebook</a>'\n",
              "            + ' to learn more about interactive tables.';\n",
              "          element.innerHTML = '';\n",
              "          dataTable['output_type'] = 'display_data';\n",
              "          await google.colab.output.renderOutput(dataTable, element);\n",
              "          const docLink = document.createElement('div');\n",
              "          docLink.innerHTML = docLinkHtml;\n",
              "          element.appendChild(docLink);\n",
              "        }\n",
              "      </script>\n",
              "    </div>\n",
              "  </div>\n",
              "  "
            ]
          },
          "metadata": {},
          "execution_count": 6
        }
      ]
    },
    {
      "cell_type": "code",
      "source": [
        "df.shape"
      ],
      "metadata": {
        "colab": {
          "base_uri": "https://localhost:8080/"
        },
        "id": "0blIoIMSh39u",
        "outputId": "aa321226-902d-47bd-8d12-426e72155966"
      },
      "execution_count": 7,
      "outputs": [
        {
          "output_type": "execute_result",
          "data": {
            "text/plain": [
              "(50, 11)"
            ]
          },
          "metadata": {},
          "execution_count": 7
        }
      ]
    },
    {
      "cell_type": "code",
      "source": [
        "df.iloc[0,0]"
      ],
      "metadata": {
        "colab": {
          "base_uri": "https://localhost:8080/"
        },
        "id": "mnUCs9Ugixsj",
        "outputId": "d4d97206-c2d1-4aed-d34c-75b983a68d01"
      },
      "execution_count": 8,
      "outputs": [
        {
          "output_type": "execute_result",
          "data": {
            "text/plain": [
              "Timestamp('2022-04-23 17:07:44.323000')"
            ]
          },
          "metadata": {},
          "execution_count": 8
        }
      ]
    },
    {
      "cell_type": "code",
      "source": [
        "df.loc[1,'年齡']"
      ],
      "metadata": {
        "colab": {
          "base_uri": "https://localhost:8080/",
          "height": 36
        },
        "id": "nyZrbjcKi7Se",
        "outputId": "ef57ac76-0ba7-458f-e665-170d21e7dc05"
      },
      "execution_count": 9,
      "outputs": [
        {
          "output_type": "execute_result",
          "data": {
            "text/plain": [
              "'21～30'"
            ],
            "application/vnd.google.colaboratory.intrinsic+json": {
              "type": "string"
            }
          },
          "metadata": {},
          "execution_count": 9
        }
      ]
    },
    {
      "cell_type": "code",
      "source": [
        "wb = gc.open_by_url('https://docs.google.com/spreadsheets/d/1xPcc16DLAPRGMC9OtI_UC5U2FNf-YKM5/')"
      ],
      "metadata": {
        "id": "l48A9KHOjCRv"
      },
      "execution_count": 10,
      "outputs": []
    },
    {
      "cell_type": "code",
      "source": [
        ""
      ],
      "metadata": {
        "id": "zDr9ylL0Wh16"
      },
      "execution_count": null,
      "outputs": []
    }
  ]
}