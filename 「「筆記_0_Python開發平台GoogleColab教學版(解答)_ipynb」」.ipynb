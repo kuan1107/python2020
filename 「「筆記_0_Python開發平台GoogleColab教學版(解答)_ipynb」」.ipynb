{
  "nbformat": 4,
  "nbformat_minor": 0,
  "metadata": {
    "colab": {
      "name": "「「筆記_0_Python開發平台GoogleColab教學版(解答).ipynb」」",
      "provenance": [],
      "collapsed_sections": [],
      "include_colab_link": true
    },
    "kernelspec": {
      "name": "python3",
      "display_name": "Python 3"
    }
  },
  "cells": [
    {
      "cell_type": "markdown",
      "metadata": {
        "id": "view-in-github",
        "colab_type": "text"
      },
      "source": [
        "<a href=\"https://colab.research.google.com/github/kuan1107/python2020/blob/main/%E3%80%8C%E3%80%8C%E7%AD%86%E8%A8%98_0_Python%E9%96%8B%E7%99%BC%E5%B9%B3%E5%8F%B0GoogleColab%E6%95%99%E5%AD%B8%E7%89%88(%E8%A7%A3%E7%AD%94)_ipynb%E3%80%8D%E3%80%8D.ipynb\" target=\"_parent\"><img src=\"https://colab.research.google.com/assets/colab-badge.svg\" alt=\"Open In Colab\"/></a>"
      ]
    },
    {
      "cell_type": "code",
      "metadata": {
        "id": "c9Iy7E4t881_",
        "colab": {
          "base_uri": "https://localhost:8080/"
        },
        "outputId": "1b77d974-d975-483c-b3a5-951ba4070705"
      },
      "source": [
        "import pandas as pd\n",
        "print(\"pandas version: %s\" % pd.__version__)\n",
        " \n",
        "import matplotlib\n",
        "print(\"matplotlib version: %s\" % matplotlib.__version__)\n",
        "\n",
        "import numpy as np\n",
        "print(\"numpy version: %s\" % np.__version__)\n",
        " \n",
        "import sklearn\n",
        "print(\"scikit-learn version: %s\" % sklearn.__version__)\n",
        " \n",
        "import tensorflow as tf\n",
        "print(\"tensorflow version: %s\" % tf.__version__)\n",
        " \n",
        "import torch\n",
        "print(\"PyTorch version: %s\" %torch.__version__)\n",
        "print(\"2020年3月PyTorch version最新版本 是1.4 請參閱https://pytorch.org/\")"
      ],
      "execution_count": null,
      "outputs": [
        {
          "output_type": "stream",
          "text": [
            "pandas version: 1.1.4\n",
            "matplotlib version: 3.2.2\n",
            "numpy version: 1.18.5\n",
            "scikit-learn version: 0.22.2.post1\n",
            "tensorflow version: 2.3.0\n",
            "PyTorch version: 1.7.0+cu101\n",
            "2020年3月PyTorch version最新版本 是1.4 請參閱https://pytorch.org/\n"
          ],
          "name": "stdout"
        }
      ]
    },
    {
      "cell_type": "markdown",
      "metadata": {
        "id": "T6c6PvQPdBnO"
      },
      "source": [
        "# 我的筆記\n",
        "\n",
        "## 軟體套件:\n",
        "```\n",
        "__version__ #可用於快速版本檢查\n",
        "\n",
        "import pandas as #引用套件並縮寫為 pd\n",
        "\n",
        "import matplotlib #用於數據視覺化上\n",
        "\n",
        "\n",
        "\n",
        "\n",
        "\n",
        "\n",
        "\n",
        "\n"
      ]
    }
  ]
}